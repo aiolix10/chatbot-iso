{
 "cells": [
  {
   "cell_type": "code",
   "execution_count": 6,
   "metadata": {},
   "outputs": [
    {
     "ename": "SyntaxError",
     "evalue": "invalid syntax (2313890896.py, line 1)",
     "output_type": "error",
     "traceback": [
      "\u001b[1;36m  Cell \u001b[1;32mIn[6], line 1\u001b[1;36m\u001b[0m\n\u001b[1;33m    pip install \"unstructured[all-docs]\"\u001b[0m\n\u001b[1;37m        ^\u001b[0m\n\u001b[1;31mSyntaxError\u001b[0m\u001b[1;31m:\u001b[0m invalid syntax\n"
     ]
    }
   ],
   "source": [
    "pip install \"unstructured[all-docs]\"\n",
    "pip install \"unstructured[all-docs]\"\n",
    "pip install ipywidgets\n"
   ]
  },
  {
   "cell_type": "code",
   "execution_count": 3,
   "metadata": {},
   "outputs": [
    {
     "ename": "ImportError",
     "evalue": "partition_pdf is not available. Install the pdf dependencies with pip install \"unstructured[pdf]\"",
     "output_type": "error",
     "traceback": [
      "\u001b[1;31m---------------------------------------------------------------------------\u001b[0m",
      "\u001b[1;31mImportError\u001b[0m                               Traceback (most recent call last)",
      "\u001b[1;32mc:\\Users\\AiolRozasMerlo\\Desktop\\OCR for PDF\\langchain.ipynb Cell 2\u001b[0m line \u001b[0;36m3\n\u001b[0;32m      <a href='vscode-notebook-cell:/c%3A/Users/AiolRozasMerlo/Desktop/OCR%20for%20PDF/langchain.ipynb#W1sZmlsZQ%3D%3D?line=0'>1</a>\u001b[0m \u001b[39mfrom\u001b[39;00m \u001b[39munstructured\u001b[39;00m\u001b[39m.\u001b[39;00m\u001b[39mpartition\u001b[39;00m\u001b[39m.\u001b[39;00m\u001b[39mauto\u001b[39;00m \u001b[39mimport\u001b[39;00m partition\n\u001b[1;32m----> <a href='vscode-notebook-cell:/c%3A/Users/AiolRozasMerlo/Desktop/OCR%20for%20PDF/langchain.ipynb#W1sZmlsZQ%3D%3D?line=2'>3</a>\u001b[0m elements \u001b[39m=\u001b[39m partition(\u001b[39m\"\u001b[39m\u001b[39mISO_GUIA.pdf\u001b[39m\u001b[39m\"\u001b[39m)\n\u001b[0;32m      <a href='vscode-notebook-cell:/c%3A/Users/AiolRozasMerlo/Desktop/OCR%20for%20PDF/langchain.ipynb#W1sZmlsZQ%3D%3D?line=3'>4</a>\u001b[0m \u001b[39mprint\u001b[39m(\u001b[39m\"\u001b[39m\u001b[39m\\n\u001b[39;00m\u001b[39m\\n\u001b[39;00m\u001b[39m\"\u001b[39m\u001b[39m.\u001b[39mjoin([\u001b[39mstr\u001b[39m(el) \u001b[39mfor\u001b[39;00m el \u001b[39min\u001b[39;00m elements]))\n\u001b[0;32m      <a href='vscode-notebook-cell:/c%3A/Users/AiolRozasMerlo/Desktop/OCR%20for%20PDF/langchain.ipynb#W1sZmlsZQ%3D%3D?line=5'>6</a>\u001b[0m \u001b[39m# Convert elements to a string for saving to a text document\u001b[39;00m\n",
      "File \u001b[1;32mc:\\Users\\AiolRozasMerlo\\anaconda3\\Lib\\site-packages\\unstructured\\partition\\auto.py:383\u001b[0m, in \u001b[0;36mpartition\u001b[1;34m(filename, content_type, file, file_filename, url, include_page_breaks, strategy, encoding, paragraph_grouper, headers, skip_infer_table_types, ssl_verify, ocr_languages, languages, detect_language_per_element, pdf_infer_table_structure, pdf_extract_images, pdf_image_output_dir_path, xml_keep_tags, data_source_metadata, metadata_filename, request_timeout, **kwargs)\u001b[0m\n\u001b[0;32m    373\u001b[0m     elements \u001b[39m=\u001b[39m _partition_md(\n\u001b[0;32m    374\u001b[0m         filename\u001b[39m=\u001b[39mfilename,\n\u001b[0;32m    375\u001b[0m         file\u001b[39m=\u001b[39mfile,\n\u001b[1;32m   (...)\u001b[0m\n\u001b[0;32m    380\u001b[0m         \u001b[39m*\u001b[39m\u001b[39m*\u001b[39mkwargs,\n\u001b[0;32m    381\u001b[0m     )\n\u001b[0;32m    382\u001b[0m \u001b[39melif\u001b[39;00m filetype \u001b[39m==\u001b[39m FileType\u001b[39m.\u001b[39mPDF:\n\u001b[1;32m--> 383\u001b[0m     _partition_pdf \u001b[39m=\u001b[39m _get_partition_with_extras(\u001b[39m\"\u001b[39m\u001b[39mpdf\u001b[39m\u001b[39m\"\u001b[39m)\n\u001b[0;32m    384\u001b[0m     elements \u001b[39m=\u001b[39m _partition_pdf(\n\u001b[0;32m    385\u001b[0m         filename\u001b[39m=\u001b[39mfilename,  \u001b[39m# type: ignore\u001b[39;00m\n\u001b[0;32m    386\u001b[0m         file\u001b[39m=\u001b[39mfile,  \u001b[39m# type: ignore\u001b[39;00m\n\u001b[1;32m   (...)\u001b[0m\n\u001b[0;32m    394\u001b[0m         \u001b[39m*\u001b[39m\u001b[39m*\u001b[39mkwargs,\n\u001b[0;32m    395\u001b[0m     )\n\u001b[0;32m    396\u001b[0m \u001b[39melif\u001b[39;00m (filetype \u001b[39m==\u001b[39m FileType\u001b[39m.\u001b[39mPNG) \u001b[39mor\u001b[39;00m (filetype \u001b[39m==\u001b[39m FileType\u001b[39m.\u001b[39mJPG) \u001b[39mor\u001b[39;00m (filetype \u001b[39m==\u001b[39m FileType\u001b[39m.\u001b[39mTIFF):\n",
      "File \u001b[1;32mc:\\Users\\AiolRozasMerlo\\anaconda3\\Lib\\site-packages\\unstructured\\partition\\auto.py:114\u001b[0m, in \u001b[0;36m_get_partition_with_extras\u001b[1;34m(doc_type, partition_with_extras_map)\u001b[0m\n\u001b[0;32m    112\u001b[0m _partition_func \u001b[39m=\u001b[39m partition_with_extras_map\u001b[39m.\u001b[39mget(doc_type)\n\u001b[0;32m    113\u001b[0m \u001b[39mif\u001b[39;00m _partition_func \u001b[39mis\u001b[39;00m \u001b[39mNone\u001b[39;00m:\n\u001b[1;32m--> 114\u001b[0m     \u001b[39mraise\u001b[39;00m \u001b[39mImportError\u001b[39;00m(\n\u001b[0;32m    115\u001b[0m         \u001b[39mf\u001b[39m\u001b[39m\"\u001b[39m\u001b[39mpartition_\u001b[39m\u001b[39m{\u001b[39;00mdoc_type\u001b[39m}\u001b[39;00m\u001b[39m is not available. \u001b[39m\u001b[39m\"\u001b[39m\n\u001b[0;32m    116\u001b[0m         \u001b[39mf\u001b[39m\u001b[39m\"\u001b[39m\u001b[39mInstall the \u001b[39m\u001b[39m{\u001b[39;00mdoc_type\u001b[39m}\u001b[39;00m\u001b[39m dependencies with \u001b[39m\u001b[39m\"\u001b[39m\n\u001b[0;32m    117\u001b[0m         \u001b[39mf\u001b[39m\u001b[39m'\u001b[39m\u001b[39mpip install \u001b[39m\u001b[39m\"\u001b[39m\u001b[39munstructured[\u001b[39m\u001b[39m{\u001b[39;00mdoc_type\u001b[39m}\u001b[39;00m\u001b[39m]\u001b[39m\u001b[39m\"\u001b[39m\u001b[39m'\u001b[39m,\n\u001b[0;32m    118\u001b[0m     )\n\u001b[0;32m    119\u001b[0m \u001b[39mreturn\u001b[39;00m _partition_func\n",
      "\u001b[1;31mImportError\u001b[0m: partition_pdf is not available. Install the pdf dependencies with pip install \"unstructured[pdf]\""
     ]
    }
   ],
   "source": [
    "from unstructured.partition.auto import partition\n",
    "\n",
    "elements = partition(\"ISO_GUIA.pdf\")\n",
    "print(\"\\n\\n\".join([str(el) for el in elements]))\n",
    "\n",
    "# Convert elements to a string for saving to a text document\n",
    "elements_text = \"\\n\\n\".join([str(el) for el in elements])\n",
    "\n",
    "# Save the elements to a text document\n",
    "with open(\"elements.txt\", \"w\", encoding=\"utf-8\") as file:\n",
    "    file.write(elements_text)\n",
    "\n",
    "print(\"Elements saved to elements.txt\")"
   ]
  },
  {
   "cell_type": "code",
   "execution_count": null,
   "metadata": {},
   "outputs": [],
   "source": []
  }
 ],
 "metadata": {
  "kernelspec": {
   "display_name": "base",
   "language": "python",
   "name": "python3"
  },
  "language_info": {
   "codemirror_mode": {
    "name": "ipython",
    "version": 3
   },
   "file_extension": ".py",
   "mimetype": "text/x-python",
   "name": "python",
   "nbconvert_exporter": "python",
   "pygments_lexer": "ipython3",
   "version": "3.11.5"
  }
 },
 "nbformat": 4,
 "nbformat_minor": 2
}
